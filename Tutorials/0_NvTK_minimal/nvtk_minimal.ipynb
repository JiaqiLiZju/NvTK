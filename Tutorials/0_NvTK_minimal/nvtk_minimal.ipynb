{
 "nbformat": 4,
 "nbformat_minor": 2,
 "metadata": {
  "language_info": {
   "name": "python",
   "codemirror_mode": {
    "name": "ipython",
    "version": 3
   }
  },
  "orig_nbformat": 2,
  "file_extension": ".py",
  "mimetype": "text/x-python",
  "name": "python",
  "npconvert_exporter": "python",
  "pygments_lexer": "ipython3",
  "version": 3
 },
 "cells": [
  {
   "cell_type": "markdown",
   "metadata": {},
   "source": [
    "# The minimal experiment in NvTK\n",
    "\n",
    "NvTK minimized the deep-learning experiment on sequence data and single cell data with a simple config.json file. \n",
    "\n",
    "The minimal experiment could be simplified as two steps:\n",
    "\n",
    "1. prepare the dataset in a required format. \n",
    "\n",
    "2. prepare template config.json file. Note the config should be authorized in NvTK, please make sure you have read the document first."
   ]
  },
  {
   "cell_type": "code",
   "execution_count": null,
   "metadata": {},
   "outputs": [],
   "source": [
    "!wget ./Dataset.train_test.h5"
   ]
  },
  {
   "cell_type": "code",
   "execution_count": null,
   "metadata": {},
   "outputs": [],
   "source": [
    "import NvTK\n",
    "experiment = NvTK.NvTKCLI(config=\"./config.json\")\n",
    "experiment.execute()"
   ]
  },
  {
   "cell_type": "markdown",
   "metadata": {},
   "source": [
    "The minimal experiment finished, please check the results in the output dirs.\n",
    "\n",
    "NvTK could be quite flexiable and complicated, please check the documents and tutorials for exploration."
   ]
  },
  {
   "cell_type": "code",
   "execution_count": null,
   "metadata": {},
   "outputs": [],
   "source": []
  }
 ]
}